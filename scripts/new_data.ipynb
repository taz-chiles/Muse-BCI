{
 "cells": [
  {
   "cell_type": "code",
   "execution_count": 1,
   "id": "ba43d0e8",
   "metadata": {},
   "outputs": [],
   "source": [
    "from eegnb import generate_save_fn\n",
    "from eegnb.devices.eeg import EEG\n",
    "from eegnb.experiments.visual_n170 import n170\n",
    "from eegnb.datasets import fetch_dataset\n",
    "from eegnb.analysis.utils import load_data, plot_conditions"
   ]
  },
  {
   "cell_type": "code",
   "execution_count": 9,
   "id": "63d54619",
   "metadata": {},
   "outputs": [],
   "source": [
    "# Define some variables\n",
    "board_name = 'muse2016'\n",
    "experiment = 'visual_n170'\n",
    "session = 2\n",
    "subject = 2 \n",
    "record_duration=120"
   ]
  },
  {
   "cell_type": "code",
   "execution_count": 10,
   "id": "9341f179",
   "metadata": {},
   "outputs": [],
   "source": [
    "# Initiate EEG device\n",
    "eeg_device = EEG(device=board_name)"
   ]
  },
  {
   "cell_type": "code",
   "execution_count": 11,
   "id": "4dc31762",
   "metadata": {},
   "outputs": [],
   "source": [
    "# Create a save directory\n",
    "save_dir = 'C:/Users/tazch/GitHub/Muse-BCI'"
   ]
  },
  {
   "cell_type": "code",
   "execution_count": 12,
   "id": "6f193aaf",
   "metadata": {},
   "outputs": [],
   "source": [
    "# Create output filename\n",
    "save_fn = generate_save_fn(board_name, experiment, subject, session, save_dir)"
   ]
  },
  {
   "cell_type": "code",
   "execution_count": 13,
   "id": "415bc6b7",
   "metadata": {},
   "outputs": [
    {
     "name": "stdout",
     "output_type": "stream",
     "text": [
      "368.2527 \tWARNING \tUser requested fullscreen with size [1600  900], but screen is actually [1536, 864]. Using actual size\n",
      "368.9460 \tWARNING \tUser requested fullscreen with size [1600  900], but screen is actually [1536, 864]. Using actual size\n",
      "starting background recording process\n",
      "will save to file: C:\\Users\\tazch\\.eegnb\\data\\visual_n170\\local\\muse2016\\subject0002\\session002\\recording_2022-12-16-17.28.58.csv\n"
     ]
    }
   ],
   "source": [
    "# Run experiment\n",
    "n170.present(duration=record_duration, eeg=eeg_device, save_fn=save_fn)"
   ]
  },
  {
   "cell_type": "code",
   "execution_count": null,
   "id": "dee11857",
   "metadata": {},
   "outputs": [],
   "source": []
  }
 ],
 "metadata": {
  "kernelspec": {
   "display_name": "eeg-notebooks",
   "language": "python",
   "name": "eeg-notebooks"
  },
  "language_info": {
   "codemirror_mode": {
    "name": "ipython",
    "version": 3
   },
   "file_extension": ".py",
   "mimetype": "text/x-python",
   "name": "python",
   "nbconvert_exporter": "python",
   "pygments_lexer": "ipython3",
   "version": "3.7.11"
  }
 },
 "nbformat": 4,
 "nbformat_minor": 5
}
